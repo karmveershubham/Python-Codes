{
  "nbformat": 4,
  "nbformat_minor": 0,
  "metadata": {
    "colab": {
      "provenance": [],
      "authorship_tag": "ABX9TyMThGCxd7awSxs2YxQ7+P8P",
      "include_colab_link": true
    },
    "kernelspec": {
      "name": "python3",
      "display_name": "Python 3"
    },
    "language_info": {
      "name": "python"
    }
  },
  "cells": [
    {
      "cell_type": "markdown",
      "metadata": {
        "id": "view-in-github",
        "colab_type": "text"
      },
      "source": [
        "<a href=\"https://colab.research.google.com/github/karmveershubham/Python-Codes/blob/main/Python%20NITKKR/Python.ipynb\" target=\"_parent\"><img src=\"https://colab.research.google.com/assets/colab-badge.svg\" alt=\"Open In Colab\"/></a>"
      ]
    },
    {
      "cell_type": "code",
      "execution_count": 1,
      "metadata": {
        "colab": {
          "base_uri": "https://localhost:8080/"
        },
        "id": "iQLZieEiLbyd",
        "outputId": "c05c43b7-2c96-4061-cc5e-d778acc6ada3"
      },
      "outputs": [
        {
          "output_type": "stream",
          "name": "stdout",
          "text": [
            "a is Type of <class 'int'>\n",
            "b is Type of <class 'float'>\n",
            "c is Type of <class 'complex'>\n"
          ]
        }
      ],
      "source": [
        "a=10;\n",
        "b=11.5;\n",
        "c=2.05j;\n",
        "print(\"a is Type of\",type(a));\n",
        "print(\"b is Type of\",type(b));\n",
        "print(\"c is Type of\",type(c));"
      ]
    },
    {
      "cell_type": "code",
      "source": [
        "a=int(input(\"Enter a value : \"));\n",
        "b=int(input(\"Enter b value : \"));\n",
        "print(\"Addition of a and b : \",a+b);\n",
        "print(\"Subtraction of a and b : \",a-b);\n",
        "print(\"Multiplication of a and b : \",a*b);\n",
        "print(\"Division of a and b : \",a/b);\n",
        "print(\"Remainder of a and b : \",a%b);\n",
        "print(\"Exponent of a and b : \",a**b);\n",
        "print(\"Floar division of a and b : \",a//b);"
      ],
      "metadata": {
        "colab": {
          "base_uri": "https://localhost:8080/"
        },
        "id": "wtpyOmNaLklM",
        "outputId": "10663a3f-7393-49fc-b503-14cbe0694ede"
      },
      "execution_count": 2,
      "outputs": [
        {
          "output_type": "stream",
          "name": "stdout",
          "text": [
            "Enter a value : 12\n",
            "Enter b value : 13\n",
            "Addition of a and b :  25\n",
            "Subtraction of a and b :  -1\n",
            "Multiplication of a and b :  156\n",
            "Division of a and b :  0.9230769230769231\n",
            "Remainder of a and b :  12\n",
            "Exponent of a and b :  106993205379072\n",
            "Floar division of a and b :  0\n"
          ]
        }
      ]
    },
    {
      "cell_type": "code",
      "source": [
        "s1=input(\"Enter first String : \");\n",
        "s2=input(\"Enter second String : \");\n",
        "print(\"First string is : \",s1);\n",
        "print(\"Second string is : \",s2);\n",
        "print(\"concatenations of two strings : \",s1+s2);\n",
        "print(\"Substring of given string : \",s1[1:4]);"
      ],
      "metadata": {
        "colab": {
          "base_uri": "https://localhost:8080/"
        },
        "id": "YgHVikhcLntb",
        "outputId": "0b99c641-6d22-4268-ebd9-13a8dc7d92ef"
      },
      "execution_count": 3,
      "outputs": [
        {
          "output_type": "stream",
          "name": "stdout",
          "text": [
            "Enter first String : Shubham Karmveer\n",
            "Enter second String : Shubham\n",
            "First string is :  Shubham Karmveer\n",
            "Second string is :  Shubham\n",
            "concatenations of two strings :  Shubham KarmveerShubham\n",
            "Substring of given string :  hub\n"
          ]
        }
      ]
    },
    {
      "cell_type": "code",
      "source": [
        "pets = ['cat', 'dog', 'rat', 'pig', 'tiger']\n",
        "snakes=['python','anaconda','fish','cobra','mamba']\n",
        "print(\"Pets are :\",pets)\n",
        "print(\"Snakes are :\",snakes)\n",
        "animals=pets+snakes\n",
        "print(\"Animals are :\",animals)\n",
        "snakes.remove(\"fish\")\n",
        "print(\"updated Snakes are :\",snakes)"
      ],
      "metadata": {
        "colab": {
          "base_uri": "https://localhost:8080/"
        },
        "id": "ql5fysLZLqyu",
        "outputId": "4addf779-858e-4692-eedd-b86735331bb1"
      },
      "execution_count": 4,
      "outputs": [
        {
          "output_type": "stream",
          "name": "stdout",
          "text": [
            "Pets are : ['cat', 'dog', 'rat', 'pig', 'tiger']\n",
            "Snakes are : ['python', 'anaconda', 'fish', 'cobra', 'mamba']\n",
            "Animals are : ['cat', 'dog', 'rat', 'pig', 'tiger', 'python', 'anaconda', 'fish', 'cobra', 'mamba']\n",
            "updated Snakes are : ['python', 'anaconda', 'cobra', 'mamba']\n"
          ]
        }
      ]
    },
    {
      "cell_type": "code",
      "source": [
        "\n",
        "T = (\"apple\", \"banana\", \"cherry\",\"mango\",\"grape\",\"orange\")\n",
        "print(\"Created tuple is : \",T)\n",
        "print(\"\\nSecond fruit is : \",T[1])\n",
        "print(\"\\nFrom 3-6 fruits are : \",T[3:6])\n",
        "print(\"\\nList of all items in Tuple : \")\n",
        "for x in T:\n",
        "  print(x)\n",
        "if \"apple\" in T:\n",
        "  print(\"\\nYes, 'apple' is in the fruits tuple\")\n",
        "print(\"\\nLength of Tuple is : \",len(T))"
      ],
      "metadata": {
        "colab": {
          "base_uri": "https://localhost:8080/"
        },
        "id": "rfgkAqMkLtut",
        "outputId": "62cca805-b7bc-4273-8c7e-2da927db849b"
      },
      "execution_count": 6,
      "outputs": [
        {
          "output_type": "stream",
          "name": "stdout",
          "text": [
            "Created tuple is :  ('apple', 'banana', 'cherry', 'mango', 'grape', 'orange')\n",
            "\n",
            "Second fruit is :  banana\n",
            "\n",
            "From 3-6 fruits are :  ('mango', 'grape', 'orange')\n",
            "\n",
            "List of all items in Tuple : \n",
            "apple\n",
            "banana\n",
            "cherry\n",
            "mango\n",
            "grape\n",
            "orange\n",
            "\n",
            "Yes, 'apple' is in the fruits tuple\n",
            "\n",
            "Length of Tuple is :  6\n"
          ]
        }
      ]
    },
    {
      "cell_type": "code",
      "source": [
        "dict1 = {'StdNo':'010','StuName': 'DEV', 'StuAge': 22, 'StuCity': 'Delhi'}\n",
        "print(\"\\nDictionary is :\",dict1)\n",
        "print(\"\\nStudent Name is :\",dict1['StuName'])\n",
        "print(\"\\nStudent City is :\",dict1['StuCity'])\n",
        "print(\"\\nAll Keys in Dictionary \")\n",
        "for x in dict1:\n",
        "  print(x)\n",
        "print(\"\\nAll Values in Dictionary \")\n",
        "for x in dict1:\n",
        "  print(dict1[x])\n",
        "dict1[\"Phno\"]=6857957856\n",
        "print(\"\\nUpdated Dictionary is :\",dict1)\n",
        "dict1[\"StuName\"]=\"Shubham\"\n",
        "print(\"\\nUpdated Dictionary is :\",dict1)\n",
        "dict1.pop(\"StuAge\")\n",
        "print(\"\\nUpdated Dictionary is :\",dict1)\n",
        "print(\"Length of Dictionary is :\",len(dict1))\n",
        "dict2=dict1.copy()\n",
        "print(\"\\nNew Dictionary is :\",dict2)\n",
        "dict1.clear()\n",
        "print(\"\\nUpdated Dictionary is :\",dict1)"
      ],
      "metadata": {
        "colab": {
          "base_uri": "https://localhost:8080/"
        },
        "id": "TQpFzamRLx34",
        "outputId": "0c6ec287-5098-4b62-c65f-e2823e2d40a1"
      },
      "execution_count": 7,
      "outputs": [
        {
          "output_type": "stream",
          "name": "stdout",
          "text": [
            "\n",
            "Dictionary is : {'StdNo': '010', 'StuName': 'DEV', 'StuAge': 22, 'StuCity': 'Delhi'}\n",
            "\n",
            "Student Name is : DEV\n",
            "\n",
            "Student City is : Delhi\n",
            "\n",
            "All Keys in Dictionary \n",
            "StdNo\n",
            "StuName\n",
            "StuAge\n",
            "StuCity\n",
            "\n",
            "All Values in Dictionary \n",
            "010\n",
            "DEV\n",
            "22\n",
            "Delhi\n",
            "\n",
            "Updated Dictionary is : {'StdNo': '010', 'StuName': 'DEV', 'StuAge': 22, 'StuCity': 'Delhi', 'Phno': 6857957856}\n",
            "\n",
            "Updated Dictionary is : {'StdNo': '010', 'StuName': 'Shubham', 'StuAge': 22, 'StuCity': 'Delhi', 'Phno': 6857957856}\n",
            "\n",
            "Updated Dictionary is : {'StdNo': '010', 'StuName': 'Shubham', 'StuCity': 'Delhi', 'Phno': 6857957856}\n",
            "Length of Dictionary is : 4\n",
            "\n",
            "New Dictionary is : {'StdNo': '010', 'StuName': 'Shubham', 'StuCity': 'Delhi', 'Phno': 6857957856}\n",
            "\n",
            "Updated Dictionary is : {}\n"
          ]
        }
      ]
    },
    {
      "cell_type": "code",
      "source": [
        "num1 = int(input(\"Enter first number: \"))\n",
        "num2 = int(input(\"Enter second number: \"))\n",
        "num3 = int(input(\"Enter third number: \"))\n",
        "if (num1 > num2) and (num1 > num3):\n",
        "  largest = num1\n",
        "elif (num2 > num1) and (num2 > num3):\n",
        "  largest = num2\n",
        "else:\n",
        "  largest = num3\n",
        "print(\"The largest number is\",largest)"
      ],
      "metadata": {
        "colab": {
          "base_uri": "https://localhost:8080/"
        },
        "id": "3IZagmO3L2DB",
        "outputId": "bd44ef50-b76d-4544-fd04-ab768353283d"
      },
      "execution_count": 8,
      "outputs": [
        {
          "output_type": "stream",
          "name": "stdout",
          "text": [
            "Enter first number: 23\n",
            "Enter second number: 12\n",
            "Enter third number: 56\n",
            "The largest number is 56\n"
          ]
        }
      ]
    },
    {
      "cell_type": "code",
      "source": [
        "n=5\n",
        "for i in range(n):\n",
        "  for j in range(i):\n",
        "    print ('* ', end=\"\")\n",
        "  print('')\n",
        "for i in range(n,0,-1):\n",
        "  for j in range(i):\n",
        "    print('* ', end=\"\")\n",
        "  print('')"
      ],
      "metadata": {
        "colab": {
          "base_uri": "https://localhost:8080/"
        },
        "id": "NgN2J1xLL5ye",
        "outputId": "9c182fcc-827f-4cd7-9c7b-c29ec6ba626e"
      },
      "execution_count": 10,
      "outputs": [
        {
          "output_type": "stream",
          "name": "stdout",
          "text": [
            "\n",
            "* \n",
            "* * \n",
            "* * * \n",
            "* * * * \n",
            "* * * * * \n",
            "* * * * \n",
            "* * * \n",
            "* * \n",
            "* \n"
          ]
        }
      ]
    },
    {
      "cell_type": "code",
      "source": [
        "print(\"Prime numbers between 1 and 20 are:\")\n",
        "lmt=20;\n",
        "for num in range(lmt):\n",
        "\n",
        "   if num > 1:\n",
        "       for i in range(2,num):\n",
        "           if (num % i) == 0:\n",
        "               break\n",
        "       else:\n",
        "           print(num)"
      ],
      "metadata": {
        "colab": {
          "base_uri": "https://localhost:8080/"
        },
        "id": "MvRbfFR7MAaB",
        "outputId": "f8cd1aca-fe34-429c-a605-1d5a6368458a"
      },
      "execution_count": 11,
      "outputs": [
        {
          "output_type": "stream",
          "name": "stdout",
          "text": [
            "Prime numbers between 1 and 20 are:\n",
            "2\n",
            "3\n",
            "5\n",
            "7\n",
            "11\n",
            "13\n",
            "17\n",
            "19\n"
          ]
        }
      ]
    },
    {
      "cell_type": "code",
      "source": [
        "def recur_fact(n):\n",
        "   if n == 1:\n",
        "       return n\n",
        "   else:\n",
        "       return n*recur_fact(n-1)\n",
        "num = int(input(\"Enter a number: \"))\n",
        "if num < 0:\n",
        "   print(\"Sorry, factorial does not exist for negative numbers\")\n",
        "elif num == 0:\n",
        "   print(\"The factorial of 0 is 1\")\n",
        "else:\n",
        "   print(\"The factorial of\",num,\"is\",recur_fact(num))"
      ],
      "metadata": {
        "colab": {
          "base_uri": "https://localhost:8080/"
        },
        "id": "eZc96nUmME_I",
        "outputId": "28488d13-83ef-4796-f31d-03bf1bad7776"
      },
      "execution_count": 12,
      "outputs": [
        {
          "output_type": "stream",
          "name": "stdout",
          "text": [
            "Enter a number: 7\n",
            "The factorial of 7 is 5040\n"
          ]
        }
      ]
    },
    {
      "cell_type": "code",
      "source": [],
      "metadata": {
        "id": "CKcLEbWgMIlt"
      },
      "execution_count": 24,
      "outputs": []
    },
    {
      "cell_type": "markdown",
      "source": [
        "def fib(n):    \n",
        "    a, b = 0, 1\n",
        "    print(0, end =\" \")\n",
        "    while b <= n:\n",
        "        print(b, end =\" \")\n",
        "        a, b = b, a+b\n",
        "\n",
        "##save above file as fibonacci then use it another file to print fibonacci\n",
        "\n",
        "import fibonacci  \n",
        "num=int(input(\"Enter any number to print Fibonacci series : \"))\n",
        "fibonacci.fib(num)"
      ],
      "metadata": {
        "id": "iRz40nEjOohG"
      }
    },
    {
      "cell_type": "code",
      "source": [
        "def bubble_sort(list1):\n",
        "    for i in range(0,len(list1)-1):\n",
        "        for j in range(len(list1)-1):\n",
        "            if(list1[j]>list1[j+1]):\n",
        "                temp = list1[j]\n",
        "                list1[j] = list1[j+1]\n",
        "                list1[j+1] = temp\n",
        "    return list1\n",
        "\n",
        "list1 = [5, 3, 8, 6, 7, 2]\n",
        "print(\"The unsorted list is: \", list1)\n",
        "print(\"The sorted list is: \", bubble_sort(list1))"
      ],
      "metadata": {
        "colab": {
          "base_uri": "https://localhost:8080/"
        },
        "id": "Ap1KNiY7ML9S",
        "outputId": "d9383ee3-fa15-42b1-cde8-00b58dd47f1b"
      },
      "execution_count": 14,
      "outputs": [
        {
          "output_type": "stream",
          "name": "stdout",
          "text": [
            "The unsorted list is:  [5, 3, 8, 6, 7, 2]\n",
            "The sorted list is:  [2, 3, 5, 6, 7, 8]\n"
          ]
        }
      ]
    },
    {
      "cell_type": "code",
      "source": [
        "def recur_fibo(n):\n",
        "  if n<=1:\n",
        "    return n\n",
        "  else:\n",
        "    return(recur_fibo(n-1) + recur_fibo(n-2))\n",
        "nterms = int(input(\"How many terms : \"))\n",
        "if nterms <= 0:\n",
        "  print(\"Plese enter a positive integer\")\n",
        "else:\n",
        "  print(\"Fibonacci sequence:\")\n",
        "for i in range(nterms):\n",
        "  print(recur_fibo(i))"
      ],
      "metadata": {
        "colab": {
          "base_uri": "https://localhost:8080/"
        },
        "id": "a_tucDlLMPJ9",
        "outputId": "c86e1248-44b6-4fce-8955-8e7c29768729"
      },
      "execution_count": 17,
      "outputs": [
        {
          "output_type": "stream",
          "name": "stdout",
          "text": [
            "How many terms : 5\n",
            "Fibonacci sequence:\n",
            "0\n",
            "1\n",
            "1\n",
            "2\n",
            "3\n"
          ]
        }
      ]
    },
    {
      "cell_type": "code",
      "source": [
        "import random\n",
        "print(\"Random integers between 0 and 9: \")\n",
        "sum = 0\n",
        "for i in range(4, 15):\n",
        "  y = random.randrange(9)\n",
        "  sum = sum + y\n",
        "  print(y)\n",
        "print(\"Sum =\",sum)"
      ],
      "metadata": {
        "colab": {
          "base_uri": "https://localhost:8080/"
        },
        "id": "cT4pZEfbMSqa",
        "outputId": "0ffc5155-3c56-47e0-ea60-c8396f512469"
      },
      "execution_count": 18,
      "outputs": [
        {
          "output_type": "stream",
          "name": "stdout",
          "text": [
            "Random integers between 0 and 9: \n",
            "2\n",
            "5\n",
            "3\n",
            "5\n",
            "4\n",
            "6\n",
            "5\n",
            "5\n",
            "0\n",
            "8\n",
            "6\n",
            "Sum = 49\n"
          ]
        }
      ]
    },
    {
      "cell_type": "code",
      "source": [
        "def recur_sum(n):\n",
        "  if n <= 1:\n",
        "    return n\n",
        "  else:\n",
        "    return n + recur_sum(n-1)\n",
        "num = int(input(\"Enter a Number: \"))\n",
        "if num < 0:\n",
        "  print(\"Enter a positive number\")\n",
        "else:\n",
        "  print(\"The sum is\",recur_sum(num))"
      ],
      "metadata": {
        "colab": {
          "base_uri": "https://localhost:8080/"
        },
        "id": "Y9SjXzxhMWUo",
        "outputId": "5369b3d8-ce7f-4a6f-f75f-af6af65b6e80"
      },
      "execution_count": 22,
      "outputs": [
        {
          "output_type": "stream",
          "name": "stdout",
          "text": [
            "Enter a Number: 5\n",
            "The sum is 15\n"
          ]
        }
      ]
    },
    {
      "cell_type": "code",
      "source": [],
      "metadata": {
        "id": "hj-og7amMZYj"
      },
      "execution_count": null,
      "outputs": []
    }
  ]
}