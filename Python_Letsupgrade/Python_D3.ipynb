{
 "cells": [
  {
   "cell_type": "markdown",
   "metadata": {},
   "source": [
    "# IF Else and ELIF Cont. "
   ]
  },
  {
   "cell_type": "code",
   "execution_count": 1,
   "metadata": {},
   "outputs": [],
   "source": [
    "# Conditional Operator "
   ]
  },
  {
   "cell_type": "raw",
   "metadata": {},
   "source": [
    "1. Equal to       ->    == \n",
    "2. Not Equal to   ->    !=\n",
    "3. Greater than   ->    > \n",
    "4. Less than.     ->.   < \n",
    "5. Greater than Equal to ->   >= \n",
    "6. Less than Equal to ->  <= "
   ]
  },
  {
   "cell_type": "code",
   "execution_count": 10,
   "metadata": {},
   "outputs": [],
   "source": [
    "a = 2\n",
    "\n",
    "b = 4"
   ]
  },
  {
   "cell_type": "code",
   "execution_count": 6,
   "metadata": {},
   "outputs": [
    {
     "name": "stdout",
     "output_type": "stream",
     "text": [
      "A and B are Equal\n"
     ]
    }
   ],
   "source": [
    "if a == b:\n",
    "    print(\"A and B are Equal\")"
   ]
  },
  {
   "cell_type": "code",
   "execution_count": 7,
   "metadata": {},
   "outputs": [
    {
     "name": "stdout",
     "output_type": "stream",
     "text": [
      " A and B are Less than Equal to \n"
     ]
    }
   ],
   "source": [
    "if a<= b:\n",
    "    print(\" A and B are Less than Equal to \")"
   ]
  },
  {
   "cell_type": "code",
   "execution_count": 12,
   "metadata": {},
   "outputs": [
    {
     "name": "stdout",
     "output_type": "stream",
     "text": [
      " A is less than  B \n"
     ]
    }
   ],
   "source": [
    "if a< b:\n",
    "    print(\" A is less than  B \")"
   ]
  },
  {
   "cell_type": "code",
   "execution_count": 13,
   "metadata": {},
   "outputs": [],
   "source": [
    "# IF else & Elif "
   ]
  },
  {
   "cell_type": "code",
   "execution_count": 14,
   "metadata": {},
   "outputs": [],
   "source": [
    "marks = 45 "
   ]
  },
  {
   "cell_type": "code",
   "execution_count": 15,
   "metadata": {},
   "outputs": [
    {
     "name": "stdout",
     "output_type": "stream",
     "text": [
      "Grade -> c\n"
     ]
    }
   ],
   "source": [
    "if marks >= 90 :\n",
    "    print(\"Grade -> A\")\n",
    "elif marks >= 60 and marks <90:\n",
    "    print(\"Grade -> B\")\n",
    "elif marks >= 40 and marks < 60:\n",
    "    print(\"Grade -> c\")\n",
    "else:\n",
    "    print( \"Failed \")"
   ]
  },
  {
   "cell_type": "markdown",
   "metadata": {},
   "source": [
    "# Looping or Loops"
   ]
  },
  {
   "cell_type": "code",
   "execution_count": 16,
   "metadata": {},
   "outputs": [],
   "source": [
    "# For repeating some task multiple times"
   ]
  },
  {
   "cell_type": "code",
   "execution_count": 26,
   "metadata": {},
   "outputs": [],
   "source": [
    "lst = [\"Vatsal\", \"Yash\", \"Sinnor\", \"Ask Love\", \"Archi\"]"
   ]
  },
  {
   "cell_type": "code",
   "execution_count": 20,
   "metadata": {},
   "outputs": [
    {
     "name": "stdout",
     "output_type": "stream",
     "text": [
      "Hello,  Yash  Good evening\n"
     ]
    }
   ],
   "source": [
    "print(\"Hello, \", lst[1],\" Good evening\")"
   ]
  },
  {
   "cell_type": "code",
   "execution_count": 21,
   "metadata": {},
   "outputs": [
    {
     "name": "stdout",
     "output_type": "stream",
     "text": [
      "Hello,  Vatsal  Good evening\n"
     ]
    }
   ],
   "source": [
    "print(\"Hello, \", lst[0],\" Good evening\")"
   ]
  },
  {
   "cell_type": "code",
   "execution_count": 22,
   "metadata": {},
   "outputs": [
    {
     "name": "stdout",
     "output_type": "stream",
     "text": [
      "Hello,  Sinnor  Good evening\n"
     ]
    }
   ],
   "source": [
    "print(\"Hello, \", lst[2],\" Good evening\")"
   ]
  },
  {
   "cell_type": "code",
   "execution_count": 23,
   "metadata": {},
   "outputs": [
    {
     "name": "stdout",
     "output_type": "stream",
     "text": [
      "Hello,   Ask Love  Good evening\n"
     ]
    }
   ],
   "source": [
    "print(\"Hello, \", lst[3],\" Good evening\")"
   ]
  },
  {
   "cell_type": "code",
   "execution_count": 24,
   "metadata": {},
   "outputs": [
    {
     "name": "stdout",
     "output_type": "stream",
     "text": [
      "Hello,  Archi  Good evening\n"
     ]
    }
   ],
   "source": [
    "print(\"Hello, \", lst[4],\" Good evening\")"
   ]
  },
  {
   "cell_type": "code",
   "execution_count": 27,
   "metadata": {},
   "outputs": [
    {
     "name": "stdout",
     "output_type": "stream",
     "text": [
      "Hello,  Vatsal  Good evening\n",
      "Hello,  Yash  Good evening\n",
      "Hello,  Sinnor  Good evening\n",
      "Hello,  Ask Love  Good evening\n",
      "Hello,  Archi  Good evening\n"
     ]
    }
   ],
   "source": [
    "for item in lst:\n",
    "    print(\"Hello, \", item,\" Good evening\")"
   ]
  },
  {
   "cell_type": "code",
   "execution_count": 28,
   "metadata": {},
   "outputs": [
    {
     "name": "stdout",
     "output_type": "stream",
     "text": [
      "Hello,  Vatsal  Good evening\n",
      "Hello,  Yash  Good evening\n",
      "Hello,  Sinnor  Good evening\n",
      "Hello,  Ask Love  Good evening\n",
      "Hello,  Archi  Good evening\n"
     ]
    }
   ],
   "source": [
    "for name in lst:\n",
    "    print(\"Hello, \", name,\" Good evening\")"
   ]
  },
  {
   "cell_type": "raw",
   "metadata": {},
   "source": [
    "for name in lst:\n",
    "    print(\"Hello, \", name,\" Good evening\")\n",
    "\n",
    "1. \"for\" is a reserved Keyword in Python for the Looping which is used for looping iteratable Objects\n",
    "\n",
    "2. name -> name is a variable which can store things with each iteration\n",
    "\n",
    "3. in -> is a Reserved Keyword in Python which is used for the address getting part \n",
    "\n",
    "4. lst -> iterratable objects \n",
    "\n",
    "5. Indention \"    \" -> which is used to diff. sub body of the For Loop \n",
    "\n",
    "6. Statement which we want to repeat "
   ]
  },
  {
   "cell_type": "code",
   "execution_count": 30,
   "metadata": {},
   "outputs": [
    {
     "name": "stdout",
     "output_type": "stream",
     "text": [
      "1\n",
      "2\n",
      "3\n",
      "4\n",
      "5\n",
      "6\n",
      "7\n",
      "8\n",
      "9\n",
      "10\n",
      "11\n",
      "12\n",
      "13\n",
      "14\n",
      "15\n",
      "16\n",
      "17\n",
      "18\n",
      "19\n",
      "20\n",
      "21\n",
      "22\n",
      "23\n",
      "24\n",
      "25\n",
      "26\n",
      "27\n",
      "28\n",
      "29\n",
      "30\n",
      "31\n",
      "32\n",
      "33\n",
      "34\n",
      "35\n",
      "36\n",
      "37\n",
      "38\n",
      "39\n",
      "40\n",
      "41\n",
      "42\n",
      "43\n",
      "44\n",
      "45\n",
      "46\n",
      "47\n",
      "48\n",
      "49\n",
      "50\n",
      "51\n",
      "52\n",
      "53\n",
      "54\n",
      "55\n",
      "56\n",
      "57\n",
      "58\n",
      "59\n",
      "60\n",
      "61\n",
      "62\n",
      "63\n",
      "64\n",
      "65\n",
      "66\n",
      "67\n",
      "68\n",
      "69\n",
      "70\n",
      "71\n",
      "72\n",
      "73\n",
      "74\n",
      "75\n",
      "76\n",
      "77\n",
      "78\n",
      "79\n",
      "80\n",
      "81\n",
      "82\n",
      "83\n",
      "84\n",
      "85\n",
      "86\n",
      "87\n",
      "88\n",
      "89\n",
      "90\n",
      "91\n",
      "92\n",
      "93\n",
      "94\n",
      "95\n",
      "96\n",
      "97\n",
      "98\n",
      "99\n",
      "100\n"
     ]
    }
   ],
   "source": [
    "for item in range(1,101):\n",
    "    print(item)"
   ]
  },
  {
   "cell_type": "code",
   "execution_count": 34,
   "metadata": {},
   "outputs": [
    {
     "name": "stdout",
     "output_type": "stream",
     "text": [
      "-10\n",
      "-9\n",
      "-8\n",
      "-7\n",
      "-6\n",
      "-5\n",
      "-4\n",
      "-3\n",
      "-2\n",
      "-1\n",
      "0\n",
      "1\n",
      "2\n",
      "3\n",
      "4\n",
      "5\n",
      "6\n",
      "7\n",
      "8\n",
      "9\n",
      "THe For Loop is completed \n"
     ]
    }
   ],
   "source": [
    "for item in range(-10,10):\n",
    "    print(item)\n",
    "else:\n",
    "    print(\"THe For Loop is completed \")"
   ]
  },
  {
   "cell_type": "code",
   "execution_count": 41,
   "metadata": {},
   "outputs": [
    {
     "data": {
      "text/plain": [
       "[-10, -8, -6, -4, -2, 0, 2, 4, 6, 8]"
      ]
     },
     "execution_count": 41,
     "metadata": {},
     "output_type": "execute_result"
    }
   ],
   "source": [
    "list(range(-10,10,2))"
   ]
  },
  {
   "cell_type": "code",
   "execution_count": 46,
   "metadata": {},
   "outputs": [
    {
     "data": {
      "text/plain": [
       "[10,\n",
       " 11,\n",
       " 12,\n",
       " 13,\n",
       " 14,\n",
       " 15,\n",
       " 16,\n",
       " 17,\n",
       " 18,\n",
       " 19,\n",
       " 20,\n",
       " 21,\n",
       " 22,\n",
       " 23,\n",
       " 24,\n",
       " 25,\n",
       " 26,\n",
       " 27,\n",
       " 28,\n",
       " 29,\n",
       " 30,\n",
       " 31,\n",
       " 32,\n",
       " 33,\n",
       " 34,\n",
       " 35,\n",
       " 36,\n",
       " 37,\n",
       " 38,\n",
       " 39,\n",
       " 40,\n",
       " 41,\n",
       " 42,\n",
       " 43,\n",
       " 44,\n",
       " 45,\n",
       " 46,\n",
       " 47,\n",
       " 48,\n",
       " 49,\n",
       " 50,\n",
       " 51,\n",
       " 52,\n",
       " 53,\n",
       " 54,\n",
       " 55,\n",
       " 56,\n",
       " 57,\n",
       " 58,\n",
       " 59,\n",
       " 60,\n",
       " 61,\n",
       " 62,\n",
       " 63,\n",
       " 64,\n",
       " 65,\n",
       " 66,\n",
       " 67,\n",
       " 68,\n",
       " 69,\n",
       " 70,\n",
       " 71,\n",
       " 72,\n",
       " 73,\n",
       " 74,\n",
       " 75,\n",
       " 76,\n",
       " 77,\n",
       " 78,\n",
       " 79,\n",
       " 80,\n",
       " 81,\n",
       " 82,\n",
       " 83,\n",
       " 84,\n",
       " 85,\n",
       " 86,\n",
       " 87,\n",
       " 88,\n",
       " 89,\n",
       " 90,\n",
       " 91,\n",
       " 92,\n",
       " 93,\n",
       " 94,\n",
       " 95,\n",
       " 96,\n",
       " 97,\n",
       " 98,\n",
       " 99]"
      ]
     },
     "execution_count": 46,
     "metadata": {},
     "output_type": "execute_result"
    }
   ],
   "source": [
    "a = 10\n",
    "b = 100 \n",
    "\n",
    "list(range(a,b))\n",
    "\n"
   ]
  },
  {
   "cell_type": "markdown",
   "metadata": {},
   "source": [
    "# While Loop"
   ]
  },
  {
   "cell_type": "code",
   "execution_count": 47,
   "metadata": {},
   "outputs": [],
   "source": [
    "# This is again a Type of Loop to run from \n",
    "# start to end, where the user is not having the end point specified"
   ]
  },
  {
   "cell_type": "code",
   "execution_count": 1,
   "metadata": {},
   "outputs": [
    {
     "name": "stdout",
     "output_type": "stream",
     "text": [
      "0\n",
      "1\n",
      "2\n",
      "3\n",
      "4\n",
      "5\n",
      "6\n",
      "7\n",
      "8\n",
      "9\n",
      "10\n",
      "11\n",
      "12\n",
      "13\n",
      "14\n",
      "15\n",
      "16\n",
      "17\n",
      "18\n",
      "19\n",
      "20\n",
      "21\n",
      "22\n",
      "23\n",
      "24\n",
      "25\n",
      "26\n",
      "27\n",
      "28\n",
      "29\n",
      "30\n",
      "31\n",
      "32\n",
      "33\n",
      "34\n",
      "35\n",
      "36\n",
      "37\n",
      "38\n",
      "39\n",
      "40\n",
      "41\n",
      "42\n",
      "43\n",
      "44\n",
      "45\n",
      "46\n",
      "47\n",
      "48\n",
      "49\n",
      "50\n",
      "51\n",
      "52\n",
      "53\n",
      "54\n",
      "55\n",
      "56\n",
      "57\n",
      "58\n",
      "59\n",
      "60\n",
      "61\n",
      "62\n",
      "63\n",
      "64\n",
      "65\n",
      "66\n",
      "67\n",
      "68\n",
      "69\n",
      "70\n",
      "71\n",
      "72\n",
      "73\n",
      "74\n",
      "75\n",
      "76\n",
      "77\n",
      "78\n",
      "79\n",
      "80\n",
      "81\n",
      "82\n",
      "83\n",
      "84\n",
      "85\n",
      "86\n",
      "87\n",
      "88\n",
      "89\n",
      "90\n",
      "91\n",
      "92\n",
      "93\n",
      "94\n",
      "95\n",
      "96\n",
      "97\n",
      "98\n",
      "99\n"
     ]
    }
   ],
   "source": [
    "a = 0\n",
    "while a < 100:\n",
    "    print(a)\n",
    "    a = a + 1"
   ]
  },
  {
   "cell_type": "code",
   "execution_count": 51,
   "metadata": {},
   "outputs": [
    {
     "name": "stdout",
     "output_type": "stream",
     "text": [
      "Enter something - > hi\n"
     ]
    }
   ],
   "source": [
    "a  = input(\"Enter something - > \")"
   ]
  },
  {
   "cell_type": "code",
   "execution_count": 52,
   "metadata": {},
   "outputs": [
    {
     "data": {
      "text/plain": [
       "'hi'"
      ]
     },
     "execution_count": 52,
     "metadata": {},
     "output_type": "execute_result"
    }
   ],
   "source": [
    "a "
   ]
  },
  {
   "cell_type": "code",
   "execution_count": 55,
   "metadata": {
    "scrolled": true
   },
   "outputs": [
    {
     "name": "stdout",
     "output_type": "stream",
     "text": [
      "Hi Guys, This is LetsUpgrade\n",
      "Do u want to stop printing your name ?n\n",
      "Hi Guys, This is LetsUpgrade\n",
      "Do u want to stop printing your name ?n\n",
      "Hi Guys, This is LetsUpgrade\n",
      "Do u want to stop printing your name ?n\n",
      "Hi Guys, This is LetsUpgrade\n",
      "Do u want to stop printing your name ?n\n",
      "Hi Guys, This is LetsUpgrade\n",
      "Do u want to stop printing your name ?n\n",
      "Hi Guys, This is LetsUpgrade\n",
      "Do u want to stop printing your name ?m\n",
      "Hi Guys, This is LetsUpgrade\n",
      "Do u want to stop printing your name ?m\n",
      "Hi Guys, This is LetsUpgrade\n",
      "Do u want to stop printing your name ?m\n",
      "Hi Guys, This is LetsUpgrade\n",
      "Do u want to stop printing your name ?n\n",
      "Hi Guys, This is LetsUpgrade\n",
      "Do u want to stop printing your name ?n\n",
      "Hi Guys, This is LetsUpgrade\n",
      "Do u want to stop printing your name ?\n",
      "Hi Guys, This is LetsUpgrade\n",
      "Do u want to stop printing your name ?\n",
      "Hi Guys, This is LetsUpgrade\n",
      "Do u want to stop printing your name ?n\n",
      "Hi Guys, This is LetsUpgrade\n",
      "Do u want to stop printing your name ?n\n",
      "Hi Guys, This is LetsUpgrade\n",
      "Do u want to stop printing your name ?n\n",
      "Hi Guys, This is LetsUpgrade\n",
      "Do u want to stop printing your name ?n\n",
      "Hi Guys, This is LetsUpgrade\n",
      "Do u want to stop printing your name ?n\n",
      "Hi Guys, This is LetsUpgrade\n",
      "Do u want to stop printing your name ?y\n"
     ]
    }
   ],
   "source": [
    "while exit != \"y\":\n",
    "    print(\"Hi Guys, This is LetsUpgrade\")\n",
    "    exit = input(\"Do u want to stop printing your name ?\")"
   ]
  },
  {
   "cell_type": "code",
   "execution_count": 57,
   "metadata": {},
   "outputs": [
    {
     "name": "stdout",
     "output_type": "stream",
     "text": [
      "1\n",
      "2\n",
      "3\n",
      "4\n",
      " \n",
      "1\n",
      "2\n",
      "3\n",
      "4\n",
      " \n",
      "1\n",
      "2\n",
      "3\n",
      "4\n",
      " \n",
      "1\n",
      "2\n",
      "3\n",
      "4\n",
      " \n",
      "1\n",
      "2\n",
      "3\n",
      "4\n",
      " \n",
      "1\n",
      "2\n",
      "3\n",
      "4\n",
      " \n",
      "1\n",
      "2\n",
      "3\n",
      "4\n",
      " \n",
      "1\n",
      "2\n",
      "3\n",
      "4\n",
      " \n",
      "1\n",
      "2\n",
      "3\n",
      "4\n",
      " \n"
     ]
    }
   ],
   "source": [
    "for item in range(1,10):\n",
    "    for a in range(1,5):\n",
    "        print(a)\n",
    "    print(\" \")"
   ]
  },
  {
   "cell_type": "markdown",
   "metadata": {},
   "source": [
    "# Control Statements / Keywords"
   ]
  },
  {
   "cell_type": "code",
   "execution_count": 60,
   "metadata": {},
   "outputs": [],
   "source": [
    "# Break - it is been used for breaking the existing for loop\n",
    "\n",
    "# Pass - Placeholder \n",
    "\n",
    "# Continue - it is used for Skipping a particular statement"
   ]
  },
  {
   "cell_type": "code",
   "execution_count": 61,
   "metadata": {},
   "outputs": [
    {
     "name": "stdout",
     "output_type": "stream",
     "text": [
      "1\n",
      "2\n",
      "3\n",
      "4\n",
      "5\n"
     ]
    }
   ],
   "source": [
    "for item in range(1,10):\n",
    "    print(item)\n",
    "    if item == 5:\n",
    "        break;"
   ]
  },
  {
   "cell_type": "code",
   "execution_count": 63,
   "metadata": {},
   "outputs": [
    {
     "name": "stdout",
     "output_type": "stream",
     "text": [
      "1\n",
      "2\n",
      "3\n",
      "4\n",
      "6\n",
      "7\n",
      "8\n",
      "9\n"
     ]
    }
   ],
   "source": [
    "for item in range(1,10):\n",
    "    if item == 5:\n",
    "        continue;\n",
    "    print(item)"
   ]
  },
  {
   "cell_type": "code",
   "execution_count": null,
   "metadata": {},
   "outputs": [],
   "source": []
  },
  {
   "cell_type": "code",
   "execution_count": 65,
   "metadata": {},
   "outputs": [],
   "source": [
    "for item in range(1,10):\n",
    "    pass"
   ]
  },
  {
   "cell_type": "code",
   "execution_count": null,
   "metadata": {},
   "outputs": [],
   "source": []
  }
 ],
 "metadata": {
  "kernelspec": {
   "display_name": "Python 3",
   "language": "python",
   "name": "python3"
  },
  "language_info": {
   "codemirror_mode": {
    "name": "ipython",
    "version": 3
   },
   "file_extension": ".py",
   "mimetype": "text/x-python",
   "name": "python",
   "nbconvert_exporter": "python",
   "pygments_lexer": "ipython3",
   "version": "3.8.5"
  }
 },
 "nbformat": 4,
 "nbformat_minor": 2
}
